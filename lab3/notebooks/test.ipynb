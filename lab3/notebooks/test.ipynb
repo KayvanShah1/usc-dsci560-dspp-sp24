{
 "cells": [
  {
   "cell_type": "code",
   "execution_count": 1,
   "metadata": {},
   "outputs": [],
   "source": [
    "import logging\n",
    "import os\n",
    "import sys\n",
    "from datetime import datetime\n",
    "\n",
    "import pandas as pd\n",
    "import yfinance as yf\n",
    "from pandas_datareader import data as pdr\n",
    "from pyrate_limiter import Duration, Limiter, RequestRate\n",
    "from requests import Session\n",
    "from requests_cache import CacheMixin, SQLiteCache\n",
    "from requests_ratelimiter import LimiterMixin, MemoryQueueBucket\n",
    "\n",
    "yf.pdr_override()"
   ]
  },
  {
   "cell_type": "code",
   "execution_count": 2,
   "metadata": {},
   "outputs": [],
   "source": [
    "notebooks_dir_parent = os.path.relpath(os.path.dirname(os.getcwd()))\n",
    "sm_dir = os.path.join(notebooks_dir_parent, \"stock-market-analysis\", \"src\")\n",
    "\n",
    "sys.path.append(sm_dir)"
   ]
  },
  {
   "cell_type": "code",
   "execution_count": 3,
   "metadata": {},
   "outputs": [],
   "source": [
    "class CachedLimiterSession(CacheMixin, LimiterMixin, Session):\n",
    "    def __init__(self, timeout=None, *args, **kwargs):\n",
    "        super().__init__(*args, **kwargs)\n",
    "        self.timeout = timeout\n",
    "\n",
    "    def request(self, *args, **kwargs):\n",
    "        # Pass the stored timeout to the request method\n",
    "        kwargs[\"timeout\"] = self.timeout\n",
    "        return super().request(*args, **kwargs)\n",
    "\n",
    "\n",
    "session = CachedLimiterSession(\n",
    "    limiter=Limiter(RequestRate(2, Duration.SECOND * 5)),  # max 2 requests per 5 seconds\n",
    "    bucket_class=MemoryQueueBucket,\n",
    "    backend=SQLiteCache(\"yfinance.cache\"),\n",
    "    timeout=5,\n",
    ")\n",
    "\n",
    "\n",
    "def get_logger(name):\n",
    "    # Create a logger\n",
    "    logger = logging.getLogger(name)\n",
    "\n",
    "    # Set the logging level (adjust as needed)\n",
    "    logger.setLevel(logging.DEBUG)\n",
    "\n",
    "    # Create a console handler and set the level\n",
    "    ch = logging.StreamHandler()\n",
    "    ch.setLevel(logging.DEBUG)\n",
    "\n",
    "    # Create a formatter and add it to the handler\n",
    "    formatter = logging.Formatter(\"%(asctime)s | %(levelname)s:%(name)s - %(message)s\")\n",
    "    ch.setFormatter(formatter)\n",
    "\n",
    "    # Add the handler to the logger\n",
    "    logger.addHandler(ch)\n",
    "    return logger\n",
    "\n",
    "\n",
    "logger = get_logger(\"notebook\")"
   ]
  },
  {
   "cell_type": "code",
   "execution_count": 4,
   "metadata": {},
   "outputs": [
    {
     "name": "stdout",
     "output_type": "stream",
     "text": [
      "WARNING: cookie & crumb does not work well with requests_cache. Am experimenting with 'expire_after=DO_NOT_CACHE', but you need to help stress-test.\n"
     ]
    },
    {
     "name": "stderr",
     "output_type": "stream",
     "text": [
      "[*********************100%%**********************]  1 of 1 completed\n"
     ]
    },
    {
     "data": {
      "text/html": [
       "<div>\n",
       "<style scoped>\n",
       "    .dataframe tbody tr th:only-of-type {\n",
       "        vertical-align: middle;\n",
       "    }\n",
       "\n",
       "    .dataframe tbody tr th {\n",
       "        vertical-align: top;\n",
       "    }\n",
       "\n",
       "    .dataframe thead th {\n",
       "        text-align: right;\n",
       "    }\n",
       "</style>\n",
       "<table border=\"1\" class=\"dataframe\">\n",
       "  <thead>\n",
       "    <tr style=\"text-align: right;\">\n",
       "      <th></th>\n",
       "      <th>Datetime</th>\n",
       "      <th>Open</th>\n",
       "      <th>High</th>\n",
       "      <th>Low</th>\n",
       "      <th>Close</th>\n",
       "      <th>Adj Close</th>\n",
       "      <th>Volume</th>\n",
       "    </tr>\n",
       "  </thead>\n",
       "  <tbody>\n",
       "    <tr>\n",
       "      <th>0</th>\n",
       "      <td>2024-01-24 09:15:00+05:30</td>\n",
       "      <td>2901.050049</td>\n",
       "      <td>2928.800049</td>\n",
       "      <td>2901.050049</td>\n",
       "      <td>2920.000000</td>\n",
       "      <td>2920.000000</td>\n",
       "      <td>0</td>\n",
       "    </tr>\n",
       "    <tr>\n",
       "      <th>1</th>\n",
       "      <td>2024-01-24 09:16:00+05:30</td>\n",
       "      <td>2920.100098</td>\n",
       "      <td>2926.899902</td>\n",
       "      <td>2918.649902</td>\n",
       "      <td>2924.449951</td>\n",
       "      <td>2924.449951</td>\n",
       "      <td>10445</td>\n",
       "    </tr>\n",
       "    <tr>\n",
       "      <th>2</th>\n",
       "      <td>2024-01-24 09:17:00+05:30</td>\n",
       "      <td>2924.250000</td>\n",
       "      <td>2924.250000</td>\n",
       "      <td>2911.000000</td>\n",
       "      <td>2915.050049</td>\n",
       "      <td>2915.050049</td>\n",
       "      <td>15317</td>\n",
       "    </tr>\n",
       "    <tr>\n",
       "      <th>3</th>\n",
       "      <td>2024-01-24 09:18:00+05:30</td>\n",
       "      <td>2913.050049</td>\n",
       "      <td>2913.050049</td>\n",
       "      <td>2902.800049</td>\n",
       "      <td>2905.100098</td>\n",
       "      <td>2905.100098</td>\n",
       "      <td>15000</td>\n",
       "    </tr>\n",
       "    <tr>\n",
       "      <th>4</th>\n",
       "      <td>2024-01-24 09:19:00+05:30</td>\n",
       "      <td>2902.199951</td>\n",
       "      <td>2903.899902</td>\n",
       "      <td>2885.149902</td>\n",
       "      <td>2887.449951</td>\n",
       "      <td>2887.449951</td>\n",
       "      <td>15909</td>\n",
       "    </tr>\n",
       "    <tr>\n",
       "      <th>...</th>\n",
       "      <td>...</td>\n",
       "      <td>...</td>\n",
       "      <td>...</td>\n",
       "      <td>...</td>\n",
       "      <td>...</td>\n",
       "      <td>...</td>\n",
       "      <td>...</td>\n",
       "    </tr>\n",
       "    <tr>\n",
       "      <th>1485</th>\n",
       "      <td>2024-01-30 15:25:00+05:30</td>\n",
       "      <td>3095.250000</td>\n",
       "      <td>3096.000000</td>\n",
       "      <td>3093.600098</td>\n",
       "      <td>3096.000000</td>\n",
       "      <td>3096.000000</td>\n",
       "      <td>8138</td>\n",
       "    </tr>\n",
       "    <tr>\n",
       "      <th>1486</th>\n",
       "      <td>2024-01-30 15:26:00+05:30</td>\n",
       "      <td>3095.899902</td>\n",
       "      <td>3097.750000</td>\n",
       "      <td>3094.750000</td>\n",
       "      <td>3097.649902</td>\n",
       "      <td>3097.649902</td>\n",
       "      <td>10538</td>\n",
       "    </tr>\n",
       "    <tr>\n",
       "      <th>1487</th>\n",
       "      <td>2024-01-30 15:27:00+05:30</td>\n",
       "      <td>3098.000000</td>\n",
       "      <td>3098.000000</td>\n",
       "      <td>3095.000000</td>\n",
       "      <td>3096.699951</td>\n",
       "      <td>3096.699951</td>\n",
       "      <td>19169</td>\n",
       "    </tr>\n",
       "    <tr>\n",
       "      <th>1488</th>\n",
       "      <td>2024-01-30 15:28:00+05:30</td>\n",
       "      <td>3097.250000</td>\n",
       "      <td>3097.449951</td>\n",
       "      <td>3095.500000</td>\n",
       "      <td>3097.000000</td>\n",
       "      <td>3097.000000</td>\n",
       "      <td>15108</td>\n",
       "    </tr>\n",
       "    <tr>\n",
       "      <th>1489</th>\n",
       "      <td>2024-01-30 15:29:00+05:30</td>\n",
       "      <td>3095.500000</td>\n",
       "      <td>3096.949951</td>\n",
       "      <td>3094.100098</td>\n",
       "      <td>3096.000000</td>\n",
       "      <td>3096.000000</td>\n",
       "      <td>4411</td>\n",
       "    </tr>\n",
       "  </tbody>\n",
       "</table>\n",
       "<p>1490 rows × 7 columns</p>\n",
       "</div>"
      ],
      "text/plain": [
       "                      Datetime         Open         High          Low  \\\n",
       "0    2024-01-24 09:15:00+05:30  2901.050049  2928.800049  2901.050049   \n",
       "1    2024-01-24 09:16:00+05:30  2920.100098  2926.899902  2918.649902   \n",
       "2    2024-01-24 09:17:00+05:30  2924.250000  2924.250000  2911.000000   \n",
       "3    2024-01-24 09:18:00+05:30  2913.050049  2913.050049  2902.800049   \n",
       "4    2024-01-24 09:19:00+05:30  2902.199951  2903.899902  2885.149902   \n",
       "...                        ...          ...          ...          ...   \n",
       "1485 2024-01-30 15:25:00+05:30  3095.250000  3096.000000  3093.600098   \n",
       "1486 2024-01-30 15:26:00+05:30  3095.899902  3097.750000  3094.750000   \n",
       "1487 2024-01-30 15:27:00+05:30  3098.000000  3098.000000  3095.000000   \n",
       "1488 2024-01-30 15:28:00+05:30  3097.250000  3097.449951  3095.500000   \n",
       "1489 2024-01-30 15:29:00+05:30  3095.500000  3096.949951  3094.100098   \n",
       "\n",
       "            Close    Adj Close  Volume  \n",
       "0     2920.000000  2920.000000       0  \n",
       "1     2924.449951  2924.449951   10445  \n",
       "2     2915.050049  2915.050049   15317  \n",
       "3     2905.100098  2905.100098   15000  \n",
       "4     2887.449951  2887.449951   15909  \n",
       "...           ...          ...     ...  \n",
       "1485  3096.000000  3096.000000    8138  \n",
       "1486  3097.649902  3097.649902   10538  \n",
       "1487  3096.699951  3096.699951   19169  \n",
       "1488  3097.000000  3097.000000   15108  \n",
       "1489  3096.000000  3096.000000    4411  \n",
       "\n",
       "[1490 rows x 7 columns]"
      ]
     },
     "execution_count": 4,
     "metadata": {},
     "output_type": "execute_result"
    }
   ],
   "source": [
    "data = pdr.get_data_yahoo(\n",
    "    \"ADANIENT.NS\", end=datetime.today(), session=session, interval=\"1m\"\n",
    ").reset_index()\n",
    "data"
   ]
  },
  {
   "cell_type": "code",
   "execution_count": 19,
   "metadata": {},
   "outputs": [
    {
     "data": {
      "text/plain": [
       "{'name': 'Apple Inc.', 'ticker_code': 'AAPL', 'exchange': 'NMS'}"
      ]
     },
     "execution_count": 19,
     "metadata": {},
     "output_type": "execute_result"
    }
   ],
   "source": [
    "from models import TickerSummaryModel\n",
    "\n",
    "def get_ticker_info(ticker_code: str):\n",
    "    # Create a Ticker object using yfinance with the provided ticker code and session\n",
    "    ticker_info = yf.Ticker(ticker_code, session=session)\n",
    "\n",
    "    # Retrieve information about the ticker\n",
    "    ticker_info = ticker_info.info\n",
    "    if \"symbol\" in ticker_info:\n",
    "        ticker_info = TickerSummaryModel(\n",
    "            ticker_code = ticker_info[\"symbol\"],\n",
    "            name = ticker_info[\"shortName\"],\n",
    "            exchange = ticker_info[\"exchange\"]\n",
    "        )\n",
    "        return ticker_info.model_dump()\n",
    "    else:\n",
    "        logger.error(\"Invalid Ticker code '%s'\", ticker_code)\n",
    "        # raise ValueError(\"Invalid Ticker code '%s'\", ticker_code)\n",
    "\n",
    "\n",
    "get_ticker_info(\"AAPL\")"
   ]
  },
  {
   "cell_type": "code",
   "execution_count": 6,
   "metadata": {},
   "outputs": [
    {
     "data": {
      "text/plain": [
       "datetime.datetime(2015, 1, 1, 0, 0)"
      ]
     },
     "execution_count": 6,
     "metadata": {},
     "output_type": "execute_result"
    }
   ],
   "source": [
    "datetime.strptime(\"2015-01-01\", \"%Y-%m-%d\")"
   ]
  },
  {
   "cell_type": "code",
   "execution_count": 33,
   "metadata": {},
   "outputs": [
    {
     "data": {
      "text/html": [
       "<div>\n",
       "<style scoped>\n",
       "    .dataframe tbody tr th:only-of-type {\n",
       "        vertical-align: middle;\n",
       "    }\n",
       "\n",
       "    .dataframe tbody tr th {\n",
       "        vertical-align: top;\n",
       "    }\n",
       "\n",
       "    .dataframe thead th {\n",
       "        text-align: right;\n",
       "    }\n",
       "</style>\n",
       "<table border=\"1\" class=\"dataframe\">\n",
       "  <thead>\n",
       "    <tr style=\"text-align: right;\">\n",
       "      <th></th>\n",
       "      <th>ticker_code</th>\n",
       "      <th>name</th>\n",
       "      <th>exchange</th>\n",
       "    </tr>\n",
       "  </thead>\n",
       "  <tbody>\n",
       "    <tr>\n",
       "      <th>0</th>\n",
       "      <td>A</td>\n",
       "      <td>Agilent Technologies Inc.</td>\n",
       "      <td>NYSE</td>\n",
       "    </tr>\n",
       "    <tr>\n",
       "      <th>1</th>\n",
       "      <td>AA</td>\n",
       "      <td>Alcoa Corporation</td>\n",
       "      <td>NYSE</td>\n",
       "    </tr>\n",
       "    <tr>\n",
       "      <th>2</th>\n",
       "      <td>AACG</td>\n",
       "      <td>ATA Creativity Global</td>\n",
       "      <td>NASDAQ</td>\n",
       "    </tr>\n",
       "    <tr>\n",
       "      <th>3</th>\n",
       "      <td>AACI</td>\n",
       "      <td>Armada Acquisition Corp. I</td>\n",
       "      <td>NASDAQ</td>\n",
       "    </tr>\n",
       "    <tr>\n",
       "      <th>4</th>\n",
       "      <td>AACT</td>\n",
       "      <td>Ares Acquisition Corporation II</td>\n",
       "      <td>NYSE</td>\n",
       "    </tr>\n",
       "    <tr>\n",
       "      <th>...</th>\n",
       "      <td>...</td>\n",
       "      <td>...</td>\n",
       "      <td>...</td>\n",
       "    </tr>\n",
       "    <tr>\n",
       "      <th>5674</th>\n",
       "      <td>ZVRA</td>\n",
       "      <td>Zevra Therapeutics Inc.</td>\n",
       "      <td>NASDAQ</td>\n",
       "    </tr>\n",
       "    <tr>\n",
       "      <th>5675</th>\n",
       "      <td>ZVSA</td>\n",
       "      <td>ZyVersa Therapeutics Inc.</td>\n",
       "      <td>NASDAQ</td>\n",
       "    </tr>\n",
       "    <tr>\n",
       "      <th>5676</th>\n",
       "      <td>ZWS</td>\n",
       "      <td>Zurn Elkay Water Solutions Corporation</td>\n",
       "      <td>NYSE</td>\n",
       "    </tr>\n",
       "    <tr>\n",
       "      <th>5677</th>\n",
       "      <td>ZYME</td>\n",
       "      <td>Zymeworks Inc.</td>\n",
       "      <td>NASDAQ</td>\n",
       "    </tr>\n",
       "    <tr>\n",
       "      <th>5678</th>\n",
       "      <td>ZYXI</td>\n",
       "      <td>Zynex Inc.</td>\n",
       "      <td>NASDAQ</td>\n",
       "    </tr>\n",
       "  </tbody>\n",
       "</table>\n",
       "<p>5679 rows × 3 columns</p>\n",
       "</div>"
      ],
      "text/plain": [
       "     ticker_code                                    name exchange\n",
       "0              A               Agilent Technologies Inc.     NYSE\n",
       "1             AA                       Alcoa Corporation     NYSE\n",
       "2           AACG                   ATA Creativity Global   NASDAQ\n",
       "3           AACI              Armada Acquisition Corp. I   NASDAQ\n",
       "4           AACT         Ares Acquisition Corporation II     NYSE\n",
       "...          ...                                     ...      ...\n",
       "5674        ZVRA                 Zevra Therapeutics Inc.   NASDAQ\n",
       "5675        ZVSA               ZyVersa Therapeutics Inc.   NASDAQ\n",
       "5676         ZWS  Zurn Elkay Water Solutions Corporation     NYSE\n",
       "5677        ZYME                          Zymeworks Inc.   NASDAQ\n",
       "5678        ZYXI                              Zynex Inc.   NASDAQ\n",
       "\n",
       "[5679 rows x 3 columns]"
      ]
     },
     "execution_count": 33,
     "metadata": {},
     "output_type": "execute_result"
    }
   ],
   "source": [
    "ticker_list = pd.read_csv(\"us_symbols.csv\", keep_default_na=False)\n",
    "ticker_list.rename(columns={\"ticker\": \"ticker_code\"}, inplace=True)\n",
    "ticker_list"
   ]
  },
  {
   "cell_type": "code",
   "execution_count": 34,
   "metadata": {},
   "outputs": [],
   "source": [
    "from models import TickerBaseListModel, TickerSummaryModel\n",
    "from db import tickers_info_collection\n",
    "\n",
    "ticker_list[\"created_at\"] = datetime.utcnow()\n",
    "ticker_list = TickerBaseListModel(ticker_list.to_dict(orient=\"records\")).model_dump()\n",
    "# tickers_info_collection.insert_many(ticker_list)\n",
    "# ticker_list"
   ]
  },
  {
   "cell_type": "code",
   "execution_count": 35,
   "metadata": {},
   "outputs": [
    {
     "data": {
      "text/plain": [
       "TickerSummaryModel(name='Agilent Technologies Inc.', ticker_code='A', exchange='NYSE')"
      ]
     },
     "execution_count": 35,
     "metadata": {},
     "output_type": "execute_result"
    }
   ],
   "source": [
    "from db import PyObjectId\n",
    "from models import TickerSummaryModel\n",
    "TickerSummaryModel(**tickers_info_collection.find_one({\"_id\": PyObjectId(\"65b9f531e4178f1bf53b7f4c\")},{\"_id\": 0}))"
   ]
  },
  {
   "cell_type": "code",
   "execution_count": 9,
   "metadata": {},
   "outputs": [
    {
     "data": {
      "text/plain": [
       "[{'portfolio_name': 'portfolio1',\n",
       "  'tickers': None,\n",
       "  'created_at': datetime.datetime(2024, 1, 31, 8, 53, 51, 514000),\n",
       "  'updated_at': None},\n",
       " {'portfolio_name': 'portfolio2',\n",
       "  'tickers': None,\n",
       "  'created_at': datetime.datetime(2024, 1, 31, 8, 54, 28, 279000),\n",
       "  'updated_at': None}]"
      ]
     },
     "execution_count": 9,
     "metadata": {},
     "output_type": "execute_result"
    }
   ],
   "source": [
    "from manager import PortfolioManager\n",
    "from models import PortfolioModel\n",
    "\n",
    "pm = PortfolioManager(username=\"john_doe\")\n",
    "\n",
    "# pm.create_portfolio(\n",
    "#     PortfolioModel(\n",
    "#         username=pm.username,\n",
    "#         portfolio_name=\"portfolio1\",\n",
    "#         # tickers: Optional[List[TickerSummaryModel]] = None\n",
    "#         created_at=datetime.utcnow()\n",
    "#     )\n",
    "# )\n",
    "\n",
    "# pm.create_portfolio(\n",
    "#     PortfolioModel(\n",
    "#         username=pm.username,\n",
    "#         portfolio_name=\"portfolio2\",\n",
    "#         # tickers: Optional[List[TickerSummaryModel]] = None\n",
    "#         created_at=datetime.utcnow()\n",
    "#     )\n",
    "# )\n",
    "\n",
    "pm.get_portfolios().model_dump()"
   ]
  },
  {
   "cell_type": "code",
   "execution_count": 21,
   "metadata": {},
   "outputs": [
    {
     "data": {
      "text/plain": [
       "PortfolioModel(username='john_doe', portfolio_name='portfolio2', tickers=None, created_at=datetime.datetime(2024, 1, 31, 11, 12, 41, 849866), updated_at=None)"
      ]
     },
     "execution_count": 21,
     "metadata": {},
     "output_type": "execute_result"
    }
   ],
   "source": [
    "x = PortfolioModel(\n",
    "        username=pm.username,\n",
    "        portfolio_name=\"portfolio2\",\n",
    "        # tickers: Optional[List[TickerSummaryModel]] = None\n",
    "        created_at=datetime.utcnow()\n",
    "    )\n",
    "x"
   ]
  },
  {
   "cell_type": "code",
   "execution_count": 24,
   "metadata": {},
   "outputs": [
    {
     "data": {
      "text/plain": [
       "PortfolioPreviewModel(portfolio_name='portfolio2', tickers=None, created_at=datetime.datetime(2024, 1, 31, 11, 12, 41, 849866), updated_at=None)"
      ]
     },
     "execution_count": 24,
     "metadata": {},
     "output_type": "execute_result"
    }
   ],
   "source": [
    "from models import PortfolioPreviewModel\n",
    "PortfolioPreviewModel(**x.model_dump())"
   ]
  }
 ],
 "metadata": {
  "kernelspec": {
   "display_name": "CSCI544",
   "language": "python",
   "name": "python3"
  },
  "language_info": {
   "codemirror_mode": {
    "name": "ipython",
    "version": 3
   },
   "file_extension": ".py",
   "mimetype": "text/x-python",
   "name": "python",
   "nbconvert_exporter": "python",
   "pygments_lexer": "ipython3",
   "version": "3.10.10"
  }
 },
 "nbformat": 4,
 "nbformat_minor": 2
}
